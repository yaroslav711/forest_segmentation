{
 "cells": [
  {
   "cell_type": "code",
   "execution_count": null,
   "metadata": {
    "colab": {
     "base_uri": "https://localhost:8080/"
    },
    "id": "8Gb2WizYQLhX",
    "outputId": "1c7655c9-0c34-4dc0-b186-4cb09f5e8b4e"
   },
   "outputs": [],
   "source": [
    "!pip install keras_unet_collection\n",
    "\n",
    "# Standard library imports\n",
    "from glob import glob\n",
    "\n",
    "# Third-party imports for data manipulation\n",
    "import numpy as np\n",
    "import pandas as pd\n",
    "\n",
    "# Image processing libraries\n",
    "from PIL import Image\n",
    "import matplotlib.pyplot as plt\n",
    "import matplotlib.image as mpimg\n",
    "\n",
    "# Machine Learning and Neural Network libraries\n",
    "import tensorflow as tf\n",
    "from tensorflow import keras\n",
    "from tensorflow.keras import backend as K\n",
    "from tensorflow.keras.applications import ResNet50\n",
    "from tensorflow.keras.layers import GlobalAveragePooling2D, Dense\n",
    "from tensorflow.keras.models import Model\n",
    "from tensorflow.keras.optimizers import Adam\n",
    "from tensorflow.keras.regularizers import l2\n",
    "from tensorflow.keras.preprocessing.image import ImageDataGenerator, load_img, img_to_array\n",
    "from tensorflow.keras.utils import Sequence, to_categorical\n",
    "from tensorflow.keras.callbacks import EarlyStopping\n",
    "from keras_unet_collection import models, utils\n",
    "from sklearn.model_selection import train_test_split\n",
    "from sklearn.preprocessing import LabelEncoder"
   ]
  },
  {
   "cell_type": "code",
   "execution_count": null,
   "metadata": {
    "colab": {
     "base_uri": "https://localhost:8080/"
    },
    "id": "rJ2IW0y0QNXj",
    "outputId": "ea3f7011-14e4-4e11-8d00-463d52651a58"
   },
   "outputs": [],
   "source": [
    "print(\"Num GPUs Available: \", len(tf.config.list_physical_devices('GPU')))"
   ]
  },
  {
   "cell_type": "code",
   "execution_count": null,
   "metadata": {
    "colab": {
     "base_uri": "https://localhost:8080/",
     "height": 140
    },
    "id": "BIcffHRDQNyG",
    "outputId": "18f1dc7e-48dc-4b6e-80e4-82447e0dcd41"
   },
   "outputs": [],
   "source": [
    "df = pd.read_csv('/content/drive/MyDrive/forest_db/forest.csv')\n",
    "df.head(3)"
   ]
  },
  {
   "cell_type": "markdown",
   "metadata": {
    "id": "liKGKuggYH1g"
   },
   "source": [
    "# Segmentation"
   ]
  },
  {
   "cell_type": "code",
   "execution_count": null,
   "metadata": {
    "id": "3LyvpjPsQ0Ui"
   },
   "outputs": [],
   "source": [
    "# Initial split: 80% for training, 20% for temp (validation + test)\n",
    "df_train, df_temp = train_test_split(df, test_size=0.2, random_state=42)\n",
    "\n",
    "# Second split on the temp: 50% of temp for validation, 50% for test\n",
    "df_val, df_test = train_test_split(df_temp, test_size=0.5, random_state=42)"
   ]
  },
  {
   "cell_type": "code",
   "execution_count": null,
   "metadata": {
    "id": "FmBpXncNR0VO"
   },
   "outputs": [],
   "source": [
    "class DataFrameSequenceSegmentation(Sequence):\n",
    "    def __init__(self, df, batch_size, image_size, augment=False, **kwargs):\n",
    "        super().__init__(**kwargs)\n",
    "        self.df = df.copy()\n",
    "        self.batch_size = batch_size\n",
    "        self.image_size = image_size\n",
    "        self.augment = augment\n",
    "\n",
    "        if self.augment:\n",
    "            self.datagen = ImageDataGenerator(\n",
    "                rotation_range=40,\n",
    "                width_shift_range=0.2,\n",
    "                height_shift_range=0.2,\n",
    "                shear_range=0.2,\n",
    "                zoom_range=0.4,\n",
    "                horizontal_flip=True,\n",
    "                fill_mode='nearest'\n",
    "            )\n",
    "        else:\n",
    "            self.datagen = ImageDataGenerator()\n",
    "\n",
    "    def __len__(self):\n",
    "        return np.ceil(len(self.df) / self.batch_size).astype(int)\n",
    "\n",
    "    def __getitem__(self, idx):\n",
    "        batch_slice = slice(idx * self.batch_size, (idx + 1) * self.batch_size)\n",
    "        batch_df = self.df.iloc[batch_slice]\n",
    "        images = [plt.imread(img) for img in batch_df['img_path']]\n",
    "        labels = [plt.imread(mask) for mask in batch_df['mask_path']]\n",
    "\n",
    "        # Apply augmentation\n",
    "        if self.augment:\n",
    "            images = np.array([\n",
    "                self.datagen.random_transform(image) for image in images\n",
    "            ])\n",
    "            labels = np.array([\n",
    "                self.datagen.random_transform(mask) for mask in labels\n",
    "            ])\n",
    "\n",
    "        return np.array(images), np.array(labels)\n",
    "\n",
    "    def on_epoch_end(self):\n",
    "        self.df = self.df.sample(frac=1).reset_index(drop=True)  # Shuffle the dataset"
   ]
  },
  {
   "cell_type": "code",
   "execution_count": null,
   "metadata": {
    "id": "VdtBvlw3nKHP"
   },
   "outputs": [],
   "source": [
    "def iou(y_true, y_pred, smooth=1e-6):\n",
    "    # Flatten the input arrays to 1D to simplify the intersection and union calculations\n",
    "    y_true_flat = K.flatten(y_true)\n",
    "    y_pred_flat = K.flatten(y_pred)\n",
    "\n",
    "    # Calculate intersection and union\n",
    "    intersection = K.sum(y_true_flat * y_pred_flat)\n",
    "    union = K.sum(y_true_flat) + K.sum(y_pred_flat) - intersection\n",
    "\n",
    "    # Calculate IoU\n",
    "    iou = (intersection + smooth) / (union + smooth)\n",
    "    return iou"
   ]
  },
  {
   "cell_type": "code",
   "execution_count": null,
   "metadata": {
    "id": "qJA9LJEkRT23"
   },
   "outputs": [],
   "source": [
    "model = models.att_unet_2d(\n",
    "      (256, 256, 3),\n",
    "      filter_num=[64, 128, 256, 512, 1024],\n",
    "      n_labels=1,\n",
    "      stack_num_down=2,\n",
    "      stack_num_up=2,\n",
    "      activation='ReLU',\n",
    "      atten_activation='ReLU',\n",
    "      attention='add',\n",
    "      output_activation='Sigmoid',\n",
    "      batch_norm=True,\n",
    "      pool=False,\n",
    "      unpool=False,\n",
    "      backbone='VGG16',\n",
    "      weights='imagenet',\n",
    "      freeze_backbone=True,\n",
    "      freeze_batch_norm=True,\n",
    "      name='attunet'\n",
    ")"
   ]
  },
  {
   "cell_type": "code",
   "execution_count": null,
   "metadata": {
    "id": "TMBN4gMfRU12"
   },
   "outputs": [],
   "source": [
    "model.compile(loss=keras.losses.binary_crossentropy, optimizer=keras.optimizers.SGD(learning_rate=1e-2), metrics=[iou])"
   ]
  },
  {
   "cell_type": "code",
   "execution_count": null,
   "metadata": {
    "id": "994ZSbJTSVA3"
   },
   "outputs": [],
   "source": [
    "image_size = (256, 256, 3)\n",
    "batch_size = 8\n",
    "\n",
    "train_generator = DataFrameSequenceSegmentation(df_train, batch_size=batch_size, image_size=image_size, augment=False)\n",
    "validation_generator = DataFrameSequenceSegmentation(df_val, batch_size=batch_size, image_size=image_size, augment=False)"
   ]
  },
  {
   "cell_type": "code",
   "execution_count": null,
   "metadata": {
    "colab": {
     "base_uri": "https://localhost:8080/"
    },
    "id": "Pbc-TjOHSg7j",
    "outputId": "1608e74d-5309-4f5a-a51d-3c31e3a358b5"
   },
   "outputs": [],
   "source": [
    "early_stopping_callback = EarlyStopping(\n",
    "    monitor='val_iou',         # Monitor validation loss\n",
    "    min_delta=3e-2,            # Minimum change to qualify as an improvement\n",
    "    patience=4,                # Stop after 4 epochs without improvement\n",
    "    verbose=1,                 # Output messages\n",
    "    mode='max',                # Stop when the monitored quantity stops decreasing\n",
    "    restore_best_weights=True  # Restore model weights from the best epoch\n",
    ")\n",
    "\n",
    "model.fit(\n",
    "    train_generator,\n",
    "    epochs=1,\n",
    "    validation_data=validation_generator,\n",
    "    callbacks=[early_stopping_callback]\n",
    ")"
   ]
  },
  {
   "cell_type": "code",
   "execution_count": null,
   "metadata": {
    "colab": {
     "base_uri": "https://localhost:8080/"
    },
    "id": "7iqTcaUJSkP1",
    "outputId": "8a068a26-3fc2-4874-9d84-c4feeeeb1ae2"
   },
   "outputs": [],
   "source": [
    "test_generator = DataFrameSequenceSegmentation(df_test, batch_size=batch_size, image_size=image_size)\n",
    "y_pred = model.predict(test_generator)"
   ]
  },
  {
   "cell_type": "code",
   "execution_count": null,
   "metadata": {
    "colab": {
     "base_uri": "https://localhost:8080/"
    },
    "id": "KbSpIQDzvkrS",
    "outputId": "0f0766ce-e251-4ed1-f281-d2031effe49d"
   },
   "outputs": [],
   "source": [
    "# Evaluate the model by iou metric\n",
    "test_loss, test_iou = model.evaluate(test_generator)\n",
    "\n",
    "print(f\"Test Loss: {test_loss}\")\n",
    "print(f\"Test IoU: {test_iou}\")"
   ]
  },
  {
   "cell_type": "code",
   "execution_count": null,
   "metadata": {
    "colab": {
     "base_uri": "https://localhost:8080/",
     "height": 1000
    },
    "id": "Mjx8vysvfBb8",
    "outputId": "b22e4b43-b85d-41f4-ab58-40c76237381d"
   },
   "outputs": [],
   "source": [
    "%matplotlib inline\n",
    "\n",
    "def ax_decorate_box(ax):\n",
    "    [j.set_linewidth(0) for j in ax.spines.values()]\n",
    "    ax.tick_params(axis=\"both\", which=\"both\", bottom=False, top=False, \\\n",
    "               labelbottom=False, left=False, right=False, labelleft=False)\n",
    "    return ax\n",
    "\n",
    "i = 0\n",
    "for ind, pair in df_test.iterrows():\n",
    "    fig, AX = plt.subplots(1, 3, figsize=(8, (8-0.2)/3))\n",
    "    plt.subplots_adjust(0, 0, 1, 1, hspace=0, wspace=0.1)\n",
    "    for ax in AX:\n",
    "        ax = ax_decorate_box(ax)\n",
    "\n",
    "    AX[0].imshow(plt.imread(pair['img_path']), cmap=plt.cm.jet)\n",
    "    AX[1].imshow(plt.imread(pair['mask_path']), cmap=plt.cm.jet)\n",
    "    AX[2].imshow(y_pred[i], cmap=plt.cm.jet)\n",
    "\n",
    "    AX[0].set_title(\"Original\", fontsize=14)\n",
    "    AX[1].set_title(\"Density\", fontsize=14)\n",
    "    AX[2].set_title('', fontsize=14)\n",
    "\n",
    "    i += 1"
   ]
  },
  {
   "cell_type": "code",
   "execution_count": null,
   "metadata": {
    "id": "vVO5W4gcDFM6"
   },
   "outputs": [],
   "source": [
    "model.save('/content/drive/MyDrive/forest_db/segmentation.keras')"
   ]
  },
  {
   "cell_type": "markdown",
   "metadata": {
    "id": "347KCmlNYCHe"
   },
   "source": [
    "# Classificator"
   ]
  },
  {
   "cell_type": "code",
   "execution_count": null,
   "metadata": {
    "id": "-GzsIpkmi7DO"
   },
   "outputs": [],
   "source": [
    "# Initial split: 80% for training, 20% for temp (validation + test)\n",
    "df_train, df_temp = train_test_split(df, test_size=0.2, random_state=42)\n",
    "\n",
    "# Second split on the temp: 50% of temp for validation, 50% for test\n",
    "df_val, df_test = train_test_split(df_temp, test_size=0.5, random_state=42)"
   ]
  },
  {
   "cell_type": "code",
   "execution_count": null,
   "metadata": {
    "id": "EHoX9gTjfNAm"
   },
   "outputs": [],
   "source": [
    "class DataFrameSequenceClassification(Sequence):\n",
    "    def __init__(self, df, batch_size, image_size, augment=False, ):\n",
    "        self.df = df.copy()\n",
    "        self.batch_size = batch_size\n",
    "        self.image_size = image_size\n",
    "        self.augment = augment\n",
    "\n",
    "        self.label_encoder = LabelEncoder()\n",
    "        self.df['encoded_labels'] = self.label_encoder.fit_transform(self.df['forest_type'])\n",
    "\n",
    "        if self.augment:\n",
    "            self.datagen = ImageDataGenerator(\n",
    "                rotation_range=40,\n",
    "                width_shift_range=0.2,\n",
    "                height_shift_range=0.2,\n",
    "                shear_range=0.2,\n",
    "                zoom_range=0.4,\n",
    "                horizontal_flip=True,\n",
    "                fill_mode='nearest'\n",
    "            )\n",
    "        else:\n",
    "            self.datagen = ImageDataGenerator()\n",
    "\n",
    "    def __len__(self):\n",
    "        return np.ceil(len(self.df) / self.batch_size).astype(int)\n",
    "\n",
    "    def __getitem__(self, idx):\n",
    "        batch_slice = slice(idx * self.batch_size, (idx + 1) * self.batch_size)\n",
    "        batch_df = self.df.iloc[batch_slice]\n",
    "        images = [(plt.imread(row['img_path']) * plt.imread(row['mask_path'])[:, :, np.newaxis]) for ind, row in batch_df[['img_path', 'mask_path']].iterrows()]\n",
    "        labels = to_categorical(batch_df['encoded_labels'].values, num_classes=3)\n",
    "\n",
    "        # Apply augmentation\n",
    "        if self.augment:\n",
    "            images = np.array([\n",
    "                self.datagen.random_transform(image) for image in images\n",
    "            ])\n",
    "\n",
    "        return np.array(images), np.array(labels)\n",
    "\n",
    "    def on_epoch_end(self):\n",
    "        self.df = self.df.sample(frac=1).reset_index(drop=True)  # Shuffle the dataset\n",
    "\n",
    "    @property\n",
    "    def classes(self):\n",
    "        # Expose the learned classes externally\n",
    "        return self.label_encoder.classes_"
   ]
  },
  {
   "cell_type": "code",
   "execution_count": null,
   "metadata": {
    "id": "9a2U_PMRjCz3"
   },
   "outputs": [],
   "source": [
    "base_model = ResNet50(\n",
    "    weights='imagenet',\n",
    "    include_top=False,\n",
    "    input_shape=(256, 256, 3)\n",
    ")\n",
    "\n",
    "x = base_model.output\n",
    "x = GlobalAveragePooling2D()(x)\n",
    "x = Dense(1024, activation='relu', kernel_regularizer=l2(0.1))(x)\n",
    "predictions = Dense(3, activation='softmax', kernel_regularizer=l2(0.1))(x)\n",
    "\n",
    "# Create the full model\n",
    "model = Model(inputs=base_model.input, outputs=predictions)"
   ]
  },
  {
   "cell_type": "code",
   "execution_count": null,
   "metadata": {
    "id": "GksVHePEjEk-"
   },
   "outputs": [],
   "source": [
    "for layer in base_model.layers:\n",
    "    layer.trainable = False"
   ]
  },
  {
   "cell_type": "code",
   "execution_count": null,
   "metadata": {
    "id": "eB62JwjEjGsD"
   },
   "outputs": [],
   "source": [
    "optimizer = Adam(learning_rate=1e-2)\n",
    "model.compile(optimizer=optimizer, loss='categorical_crossentropy', metrics=['accuracy'])"
   ]
  },
  {
   "cell_type": "code",
   "execution_count": null,
   "metadata": {
    "id": "9FeiVL6djJ9b"
   },
   "outputs": [],
   "source": [
    "image_size = (256, 256, 3)\n",
    "batch_size = 16\n",
    "\n",
    "train_generator = DataFrameSequenceClassification(df_train, batch_size=batch_size, image_size=image_size, augment=True)\n",
    "validation_generator = DataFrameSequenceClassification(df_val, batch_size=batch_size, image_size=image_size, augment=False)"
   ]
  },
  {
   "cell_type": "code",
   "execution_count": null,
   "metadata": {
    "colab": {
     "base_uri": "https://localhost:8080/"
    },
    "id": "TvmJAbVrjO5N",
    "outputId": "1ea68c9d-3936-4e13-b060-d276ca2bb313"
   },
   "outputs": [],
   "source": [
    "early_stopping_callback = EarlyStopping(\n",
    "    monitor='loss',            # Monitor validation loss\n",
    "    min_delta=1e-1,            # Minimum change to qualify as an improvement\n",
    "    patience=10,               # Stop after 10 epochs without improvement\n",
    "    verbose=1,                 # Output messages\n",
    "    mode='max',                # Stop when the monitored quantity stops decreasing\n",
    "    restore_best_weights=True  # Restore model weights from the best epoch\n",
    ")\n",
    "\n",
    "model.fit(\n",
    "    train_generator,\n",
    "    epochs=100,\n",
    "    validation_data=validation_generator,\n",
    "    callbacks=[early_stopping_callback]\n",
    ")"
   ]
  },
  {
   "cell_type": "code",
   "execution_count": null,
   "metadata": {
    "colab": {
     "base_uri": "https://localhost:8080/"
    },
    "id": "K4RpeZyfmape",
    "outputId": "8297a5ca-921f-4e70-ca82-e9bfb3917673"
   },
   "outputs": [],
   "source": [
    "test_generator = DataFrameSequenceClassification(df_train, batch_size=batch_size, image_size=image_size)\n",
    "\n",
    "# Evaluate the model\n",
    "test_loss, test_accuracy = model.evaluate(test_generator)\n",
    "\n",
    "print(f\"Test Loss: {test_loss}\")\n",
    "print(f\"Test Accuracy: {test_accuracy}\")"
   ]
  },
  {
   "cell_type": "code",
   "execution_count": null,
   "metadata": {
    "colab": {
     "base_uri": "https://localhost:8080/"
    },
    "id": "WG6lddZvmKmz",
    "outputId": "87a46840-2d26-41a5-d14c-86b824b301e3"
   },
   "outputs": [],
   "source": [
    "test_images, test_labels = next(iter(test_generator))\n",
    "predictions = model.predict(test_images)"
   ]
  },
  {
   "cell_type": "code",
   "execution_count": null,
   "metadata": {
    "id": "M6sbLsQ3ZY-J"
   },
   "outputs": [],
   "source": [
    "model.save('/content/drive/MyDrive/forest_db/classification.keras')"
   ]
  }
 ],
 "metadata": {
  "accelerator": "GPU",
  "colab": {
   "gpuType": "T4",
   "provenance": []
  },
  "kernelspec": {
   "display_name": "Python 3 (ipykernel)",
   "language": "python",
   "name": "python3"
  },
  "language_info": {
   "codemirror_mode": {
    "name": "ipython",
    "version": 3
   },
   "file_extension": ".py",
   "mimetype": "text/x-python",
   "name": "python",
   "nbconvert_exporter": "python",
   "pygments_lexer": "ipython3",
   "version": "3.9.12"
  }
 },
 "nbformat": 4,
 "nbformat_minor": 1
}
